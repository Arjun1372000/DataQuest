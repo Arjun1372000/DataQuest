{
 "cells": [
  {
   "cell_type": "code",
   "execution_count": null,
   "id": "093b442a",
   "metadata": {},
   "outputs": [
    {
     "name": "stdout",
     "output_type": "stream",
     "text": [
      "QR code saved at: qr_0ac50fe0-99b3-4b8d-8baa-96857a6c60a9.png\n"
     ]
    }
   ],
   "source": [
    "import qrcode\n",
    "import uuid\n",
    "import json\n",
    "\n",
    "def create_digital_id(farm_name, batch_number):\n",
    "    \"\"\"\n",
    "    Generates a unique digital ID for a batch of herbs.\n",
    "    \"\"\"\n",
    "    unique_id = str(uuid.uuid4())\n",
    "    data = {\n",
    "        \"id\": unique_id,\n",
    "        \"farm\": farm_name,\n",
    "        \"batch\": batch_number,\n",
    "        \"creation_date\": \"2025-09-17\"  # Example date\n",
    "    }\n",
    "    return unique_id, data\n",
    "\n",
    "def generate_qr_code(data):\n",
    "    \"\"\"\n",
    "    Generates a QR code for the given data.\n",
    "    \"\"\"\n",
    "    img = qrcode.make(json.dumps(data))\n",
    "    img.save(f\"qr_{data['id']}.png\")\n",
    "    return f\"qr_{data['id']}.png\"\n",
    "\n",
    "# Example usage at the farm level:\n",
    "\n",
    "#test 2\n",
    "\n",
    "farm_id, herb_data = create_digital_id(\"Green Valley Farms\", \"B123\")\n",
    "qr_image_path = generate_qr_code(herb_data)\n",
    "print(f\"QR code saved at: {qr_image_path}\")"
   ]
  },
  {
   "cell_type": "code",
   "execution_count": null,
   "id": "ec115d51",
   "metadata": {},
   "outputs": [],
   "source": []
  }
 ],
 "metadata": {
  "kernelspec": {
   "display_name": "Python 3 (ipykernel)",
   "language": "python",
   "name": "python3"
  },
  "language_info": {
   "codemirror_mode": {
    "name": "ipython",
    "version": 3
   },
   "file_extension": ".py",
   "mimetype": "text/x-python",
   "name": "python",
   "nbconvert_exporter": "python",
   "pygments_lexer": "ipython3",
   "version": "3.9.7"
  }
 },
 "nbformat": 4,
 "nbformat_minor": 5
}
